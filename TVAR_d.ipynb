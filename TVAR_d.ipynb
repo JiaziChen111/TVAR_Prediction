{
 "cells": [
  {
   "cell_type": "code",
   "execution_count": 2,
   "metadata": {
    "collapsed": false
   },
   "outputs": [],
   "source": [
    "import numpy as np\n",
    "import matplotlib.pyplot as plt\n",
    "% matplotlib inline"
   ]
  },
  {
   "cell_type": "markdown",
   "metadata": {},
   "source": [
    "### Génération d'un TVAR(d)"
   ]
  },
  {
   "cell_type": "code",
   "execution_count": 4,
   "metadata": {
    "collapsed": false
   },
   "outputs": [],
   "source": [
    "def generation_TVAR(d, T, epsilon):\n",
    "    \n",
    "    \"\"\"generation des coefficients du TVAR par les corrélations partielles de l'algorithme de Levinson\"\"\"\n",
    "    \n",
    "    #améliorer la génération des kapas avec des fonctionns à valeur de [1,d] dans [-1,1]^d\n",
    "    kappa = 2 * np.random.rand(d, 1) - 1\n",
    "    theta = np.matrix(np.zeros((d,t)))\n",
    "    theta_inter = np.matrix(np.zeros((d,d)))\n",
    "    X = epsilon\n",
    "    \n",
    "    for k in np.arange(d):\n",
    "        theta[k,k] = kappa[k]\n",
    "    \n",
    "    for t in np.arange(T):\n",
    "        for p in np.arange(1, d):\n",
    "            for k in np.arange(1, p):\n",
    "                theta_inter[k,p] = theta_inter[k,p-1] - kappa[p] * theta_inter[p-k,p-1]\n",
    "        theta[:,t] = theta_inter[d,:].T\n",
    "        X[T + t] = np.dot(X[T+t-d:T+t][::-1], theta[:,t]) + X[T + t]\n",
    "        \n",
    "    return X, theta"
   ]
  },
  {
   "cell_type": "markdown",
   "metadata": {},
   "source": [
    "### Analyse spectrale"
   ]
  },
  {
   "cell_type": "code",
   "execution_count": null,
   "metadata": {
    "collapsed": true
   },
   "outputs": [],
   "source": [
    "from scipy.fftpack import fft\n",
    "\n",
    "def dsp(theta, T, N = 512):\n",
    "    dsp_array = np.matrix(np.zeros((N, T)))\n",
    "    \n",
    "    for t in np.arange(T):\n",
    "        dsp_array[:,t] = np.matrix(1./abs(fft(theta[:,t].T, N)) ** 2).T\n",
    "        \n",
    "    return dsp_array"
   ]
  },
  {
   "cell_type": "markdown",
   "metadata": {},
   "source": [
    "### Construction d'un estimateur en ligne"
   ]
  },
  {
   "cell_type": "code",
   "execution_count": null,
   "metadata": {
    "collapsed": true
   },
   "outputs": [],
   "source": [
    "from scipy.linalg import norm\n",
    "\n",
    "def generation_est(X, d, T, mu):\n",
    "\n",
    "    theta_est = np.matrix(np.zeros((d,T)))\n",
    "    X_est = np.zeros(T)\n",
    "    \n",
    "    for k in (np.arange(T)): # on fait T itérations\n",
    "        XX = X[T+k-d:T+k][::-1]\n",
    "        \n",
    "        if k==0:\n",
    "            theta_est[:,k] = np.matrix(mu * X[T+k] * XX / (1 + mu * norm(XX) ** 2)).T \n",
    "        else:\n",
    "            theta_est[:,k] = np.matrix(theta_est[:,k-1].T + mu * (X[T+k] - np.dot(XX, theta_est[:,k-1])) * XX / (1 + mu * norm(XX) ** 2)).T  \n",
    "\n",
    "        X_est[k] = np.dot(XX, theta_est[:,k])\n",
    "        \n",
    "    return X_est, theta_est"
   ]
  },
  {
   "cell_type": "markdown",
   "metadata": {},
   "source": [
    "### Estimation par aggregation"
   ]
  },
  {
   "cell_type": "code",
   "execution_count": null,
   "metadata": {
    "collapsed": true
   },
   "outputs": [],
   "source": []
  }
 ],
 "metadata": {
  "kernelspec": {
   "display_name": "Python 2",
   "language": "python",
   "name": "python2"
  },
  "language_info": {
   "codemirror_mode": {
    "name": "ipython",
    "version": 2
   },
   "file_extension": ".py",
   "mimetype": "text/x-python",
   "name": "python",
   "nbconvert_exporter": "python",
   "pygments_lexer": "ipython2",
   "version": "2.7.9"
  }
 },
 "nbformat": 4,
 "nbformat_minor": 0
}
